{
 "cells": [
  {
   "cell_type": "markdown",
   "metadata": {},
   "source": [
    "## Module Importing\n",
    "- 이미지 파일에서 추출한 특성 embedding vector 관리 : `feature_extraction.py`\n",
    "- csv 파일 및 데이터 사용 : pandas, numpy\n"
   ]
  },
  {
   "cell_type": "code",
   "execution_count": 1,
   "metadata": {},
   "outputs": [],
   "source": [
    "import numpy as np\n",
    "import pandas as pd\n",
    "import os\n",
    "\n",
    "import matplotlib.pyplot as plt\n",
    "%matplotlib inline"
   ]
  },
  {
   "cell_type": "code",
   "execution_count": 9,
   "metadata": {},
   "outputs": [],
   "source": [
    "import feature_extraction as fe"
   ]
  },
  {
   "cell_type": "code",
   "execution_count": 3,
   "metadata": {},
   "outputs": [],
   "source": [
    "import torch\n",
    "import torch.nn as nn\n",
    "import torch.optim as optim\n",
    "from torch.optim.lr_scheduler import ReduceLROnPlateau\n",
    "from torchvision import models, transforms\n",
    "from torch.utils.data import DataLoader, Dataset\n",
    "from PIL import Image\n",
    "from sklearn.ensemble import IsolationForest\n",
    "from tqdm import tqdm\n",
    "import random"
   ]
  },
  {
   "cell_type": "markdown",
   "metadata": {},
   "source": [
    "### GPU with cuda\n",
    "- GPU 사용여부 확인 및 사용 device 설정"
   ]
  },
  {
   "cell_type": "code",
   "execution_count": 4,
   "metadata": {},
   "outputs": [
    {
     "name": "stdout",
     "output_type": "stream",
     "text": [
      "현재 사용 가능한 GPU의 수: 1\n",
      "cuda\n"
     ]
    }
   ],
   "source": [
    "# GPU 사용 설정\n",
    "if torch.cuda.is_available():\n",
    "    device_count = torch.cuda.device_count()\n",
    "    print(f\"현재 사용 가능한 GPU의 수: {device_count}\")\n",
    "else:\n",
    "    print(\"GPU를 사용할 수 없습니다.\")\n",
    "device = torch.device(\"cuda\" if torch.cuda.is_available() else \"cpu\")\n",
    "print(device)"
   ]
  },
  {
   "cell_type": "markdown",
   "metadata": {},
   "source": [
    "### SEED 고정"
   ]
  },
  {
   "cell_type": "code",
   "execution_count": 5,
   "metadata": {},
   "outputs": [],
   "source": [
    "def seed_everything(seed):\n",
    "    random.seed(seed)\n",
    "    os.environ['PYTHONHASHSEED'] = str(seed)\n",
    "    np.random.seed(seed)\n",
    "    torch.manual_seed(seed)\n",
    "    torch.cuda.manual_seed(seed)\n",
    "    torch.backends.cudnn.deterministic = True\n",
    "    torch.backends.cudnn.benchmark = False\n",
    "\n",
    "seed_everything(2024) # Seed 고정"
   ]
  },
  {
   "cell_type": "markdown",
   "metadata": {},
   "source": [
    "### 경로 확인 및 수정"
   ]
  },
  {
   "cell_type": "code",
   "execution_count": 6,
   "metadata": {},
   "outputs": [
    {
     "data": {
      "text/plain": [
       "'d:\\\\Programming\\\\DL\\\\Anomaly_Detection\\\\code'"
      ]
     },
     "execution_count": 6,
     "metadata": {},
     "output_type": "execute_result"
    }
   ],
   "source": [
    "# 파일 경로 확인\n",
    "os.getcwd()"
   ]
  },
  {
   "cell_type": "code",
   "execution_count": 7,
   "metadata": {},
   "outputs": [],
   "source": [
    "# 경로 변경\n",
    "os.chdir(os.getcwd() + '\\..\\data')"
   ]
  },
  {
   "cell_type": "markdown",
   "metadata": {},
   "source": [
    "## Data Setting\n",
    "- csv 형태로 저장된 데이터 로딩\n",
    "- 위에서 변경한 경로를 통해 `train.csv` 파일 로딩 및 이미지 데이터 embedding\n",
    "- 이미지 데이터에 적용할 모델 선정\n",
    "    - `torchvision` 에서 제공하는 ImageNet 기반 선행 학습 모델 로딩 : ResNet, VGG-16, VGG-19, AlexNet"
   ]
  },
  {
   "cell_type": "code",
   "execution_count": 8,
   "metadata": {},
   "outputs": [],
   "source": [
    "# 데이터 로딩 클래스 정의\n",
    "class CustomDataset(Dataset):\n",
    "    def __init__(self, csv_file, transform=None):\n",
    "        \"\"\"\n",
    "        Args:\n",
    "            csv_file (string): csv 파일의 경로.\n",
    "            transform (callable, optional): 샘플에 적용될 Optional transform.\n",
    "        \"\"\"\n",
    "        self.df = pd.read_csv(csv_file)\n",
    "        self.transform = transform\n",
    "\n",
    "    def __len__(self):\n",
    "        return len(self.df)\n",
    "\n",
    "    def __getitem__(self, idx):\n",
    "        img_path = os.getcwd() + self.df['img_path'].iloc[idx]\n",
    "        image = Image.open(img_path)\n",
    "        if self.transform:\n",
    "            image = self.transform(image)\n",
    "        target = torch.tensor([0.]).float()\n",
    "        return image, target\n",
    "\n",
    "# 이미지 전처리 및 임베딩\n",
    "transform = transforms.Compose([\n",
    "    transforms.Resize((512, 512)),\n",
    "    transforms.RandomHorizontalFlip(p=0.5),\n",
    "    transforms.ToTensor(),\n",
    "    transforms.Normalize(mean=[0.485, 0.456, 0.406], std=[0.229, 0.224, 0.225]),\n",
    "])\n",
    "\n",
    "train_data = CustomDataset(csv_file='./train.csv', transform=transform)\n",
    "train_loader = DataLoader(train_data, batch_size=32, shuffle=False)"
   ]
  },
  {
   "cell_type": "code",
   "execution_count": null,
   "metadata": {},
   "outputs": [],
   "source": []
  },
  {
   "cell_type": "code",
   "execution_count": 10,
   "metadata": {},
   "outputs": [
    {
     "name": "stderr",
     "output_type": "stream",
     "text": [
      "c:\\Users\\dhsmf\\anaconda3\\envs\\ml_venv\\lib\\site-packages\\torchvision\\models\\_utils.py:208: UserWarning: The parameter 'pretrained' is deprecated since 0.13 and will be removed in 0.15, please use 'weights' instead.\n",
      "  warnings.warn(\n",
      "c:\\Users\\dhsmf\\anaconda3\\envs\\ml_venv\\lib\\site-packages\\torchvision\\models\\_utils.py:223: UserWarning: Arguments other than a weight enum or `None` for 'weights' are deprecated since 0.13 and will be removed in 0.15. The current behavior is equivalent to passing `weights=ResNet18_Weights.IMAGENET1K_V1`. You can also use `weights=ResNet18_Weights.DEFAULT` to get the most up-to-date weights.\n",
      "  warnings.warn(msg)\n",
      "c:\\Users\\dhsmf\\anaconda3\\envs\\ml_venv\\lib\\site-packages\\torchvision\\models\\_utils.py:223: UserWarning: Arguments other than a weight enum or `None` for 'weights' are deprecated since 0.13 and will be removed in 0.15. The current behavior is equivalent to passing `weights=VGG16_Weights.IMAGENET1K_V1`. You can also use `weights=VGG16_Weights.DEFAULT` to get the most up-to-date weights.\n",
      "  warnings.warn(msg)\n",
      "Downloading: \"https://download.pytorch.org/models/vgg16-397923af.pth\" to C:\\Users\\dhsmf/.cache\\torch\\hub\\checkpoints\\vgg16-397923af.pth\n"
     ]
    },
    {
     "data": {
      "application/vnd.jupyter.widget-view+json": {
       "model_id": "c17bd9d2b759492fa6dda0dcc7558e15",
       "version_major": 2,
       "version_minor": 0
      },
      "text/plain": [
       "  0%|          | 0.00/528M [00:00<?, ?B/s]"
      ]
     },
     "metadata": {},
     "output_type": "display_data"
    },
    {
     "name": "stderr",
     "output_type": "stream",
     "text": [
      "c:\\Users\\dhsmf\\anaconda3\\envs\\ml_venv\\lib\\site-packages\\torchvision\\models\\_utils.py:223: UserWarning: Arguments other than a weight enum or `None` for 'weights' are deprecated since 0.13 and will be removed in 0.15. The current behavior is equivalent to passing `weights=VGG19_Weights.IMAGENET1K_V1`. You can also use `weights=VGG19_Weights.DEFAULT` to get the most up-to-date weights.\n",
      "  warnings.warn(msg)\n",
      "Downloading: \"https://download.pytorch.org/models/vgg19-dcbb9e9d.pth\" to C:\\Users\\dhsmf/.cache\\torch\\hub\\checkpoints\\vgg19-dcbb9e9d.pth\n"
     ]
    },
    {
     "data": {
      "application/vnd.jupyter.widget-view+json": {
       "model_id": "7d48c15ceb3744e8b5d695eae6e2b01b",
       "version_major": 2,
       "version_minor": 0
      },
      "text/plain": [
       "  0%|          | 0.00/548M [00:00<?, ?B/s]"
      ]
     },
     "metadata": {},
     "output_type": "display_data"
    },
    {
     "name": "stderr",
     "output_type": "stream",
     "text": [
      "c:\\Users\\dhsmf\\anaconda3\\envs\\ml_venv\\lib\\site-packages\\torchvision\\models\\_utils.py:223: UserWarning: Arguments other than a weight enum or `None` for 'weights' are deprecated since 0.13 and will be removed in 0.15. The current behavior is equivalent to passing `weights=AlexNet_Weights.IMAGENET1K_V1`. You can also use `weights=AlexNet_Weights.DEFAULT` to get the most up-to-date weights.\n",
      "  warnings.warn(msg)\n",
      "Downloading: \"https://download.pytorch.org/models/alexnet-owt-7be5be79.pth\" to C:\\Users\\dhsmf/.cache\\torch\\hub\\checkpoints\\alexnet-owt-7be5be79.pth\n"
     ]
    },
    {
     "data": {
      "application/vnd.jupyter.widget-view+json": {
       "model_id": "75304c3d233a4b46a7f2080b7009b9cb",
       "version_major": 2,
       "version_minor": 0
      },
      "text/plain": [
       "  0%|          | 0.00/233M [00:00<?, ?B/s]"
      ]
     },
     "metadata": {},
     "output_type": "display_data"
    },
    {
     "ename": "KeyboardInterrupt",
     "evalue": "",
     "output_type": "error",
     "traceback": [
      "\u001b[1;31m---------------------------------------------------------------------------\u001b[0m",
      "\u001b[1;31mKeyboardInterrupt\u001b[0m                         Traceback (most recent call last)",
      "Cell \u001b[1;32mIn[10], line 8\u001b[0m\n\u001b[0;32m      6\u001b[0m vgg19_model \u001b[38;5;241m=\u001b[39m models\u001b[38;5;241m.\u001b[39mvgg19(pretrained\u001b[38;5;241m=\u001b[39m\u001b[38;5;28;01mTrue\u001b[39;00m)\n\u001b[0;32m      7\u001b[0m \u001b[38;5;66;03m# AlexNet 모델을 불러옵니다.\u001b[39;00m\n\u001b[1;32m----> 8\u001b[0m alexnet_model \u001b[38;5;241m=\u001b[39m \u001b[43mmodels\u001b[49m\u001b[38;5;241;43m.\u001b[39;49m\u001b[43malexnet\u001b[49m\u001b[43m(\u001b[49m\u001b[43mpretrained\u001b[49m\u001b[38;5;241;43m=\u001b[39;49m\u001b[38;5;28;43;01mTrue\u001b[39;49;00m\u001b[43m)\u001b[49m\n\u001b[0;32m     10\u001b[0m \u001b[38;5;66;03m# ResNet 모델을 특징 추출기에 전달하여 특징 추출기를 초기화\u001b[39;00m\n\u001b[0;32m     11\u001b[0m resnet_feature_extractor \u001b[38;5;241m=\u001b[39m fe\u001b[38;5;241m.\u001b[39mFeatureExtractor(resnet_model)\u001b[38;5;241m.\u001b[39mto(device)\n",
      "File \u001b[1;32mc:\\Users\\dhsmf\\anaconda3\\envs\\ml_venv\\lib\\site-packages\\torchvision\\models\\_utils.py:142\u001b[0m, in \u001b[0;36mkwonly_to_pos_or_kw.<locals>.wrapper\u001b[1;34m(*args, **kwargs)\u001b[0m\n\u001b[0;32m    135\u001b[0m     warnings\u001b[38;5;241m.\u001b[39mwarn(\n\u001b[0;32m    136\u001b[0m         \u001b[38;5;124mf\u001b[39m\u001b[38;5;124m\"\u001b[39m\u001b[38;5;124mUsing \u001b[39m\u001b[38;5;132;01m{\u001b[39;00msequence_to_str(\u001b[38;5;28mtuple\u001b[39m(keyword_only_kwargs\u001b[38;5;241m.\u001b[39mkeys()),\u001b[38;5;250m \u001b[39mseparate_last\u001b[38;5;241m=\u001b[39m\u001b[38;5;124m'\u001b[39m\u001b[38;5;124mand \u001b[39m\u001b[38;5;124m'\u001b[39m)\u001b[38;5;132;01m}\u001b[39;00m\u001b[38;5;124m as positional \u001b[39m\u001b[38;5;124m\"\u001b[39m\n\u001b[0;32m    137\u001b[0m         \u001b[38;5;124mf\u001b[39m\u001b[38;5;124m\"\u001b[39m\u001b[38;5;124mparameter(s) is deprecated since 0.13 and will be removed in 0.15. Please use keyword parameter(s) \u001b[39m\u001b[38;5;124m\"\u001b[39m\n\u001b[0;32m    138\u001b[0m         \u001b[38;5;124mf\u001b[39m\u001b[38;5;124m\"\u001b[39m\u001b[38;5;124minstead.\u001b[39m\u001b[38;5;124m\"\u001b[39m\n\u001b[0;32m    139\u001b[0m     )\n\u001b[0;32m    140\u001b[0m     kwargs\u001b[38;5;241m.\u001b[39mupdate(keyword_only_kwargs)\n\u001b[1;32m--> 142\u001b[0m \u001b[38;5;28;01mreturn\u001b[39;00m fn(\u001b[38;5;241m*\u001b[39margs, \u001b[38;5;241m*\u001b[39m\u001b[38;5;241m*\u001b[39mkwargs)\n",
      "File \u001b[1;32mc:\\Users\\dhsmf\\anaconda3\\envs\\ml_venv\\lib\\site-packages\\torchvision\\models\\_utils.py:228\u001b[0m, in \u001b[0;36mhandle_legacy_interface.<locals>.outer_wrapper.<locals>.inner_wrapper\u001b[1;34m(*args, **kwargs)\u001b[0m\n\u001b[0;32m    225\u001b[0m     \u001b[38;5;28;01mdel\u001b[39;00m kwargs[pretrained_param]\n\u001b[0;32m    226\u001b[0m     kwargs[weights_param] \u001b[38;5;241m=\u001b[39m default_weights_arg\n\u001b[1;32m--> 228\u001b[0m \u001b[38;5;28;01mreturn\u001b[39;00m builder(\u001b[38;5;241m*\u001b[39margs, \u001b[38;5;241m*\u001b[39m\u001b[38;5;241m*\u001b[39mkwargs)\n",
      "File \u001b[1;32mc:\\Users\\dhsmf\\anaconda3\\envs\\ml_venv\\lib\\site-packages\\torchvision\\models\\alexnet.py:114\u001b[0m, in \u001b[0;36malexnet\u001b[1;34m(weights, progress, **kwargs)\u001b[0m\n\u001b[0;32m    111\u001b[0m model \u001b[38;5;241m=\u001b[39m AlexNet(\u001b[38;5;241m*\u001b[39m\u001b[38;5;241m*\u001b[39mkwargs)\n\u001b[0;32m    113\u001b[0m \u001b[38;5;28;01mif\u001b[39;00m weights \u001b[38;5;129;01mis\u001b[39;00m \u001b[38;5;129;01mnot\u001b[39;00m \u001b[38;5;28;01mNone\u001b[39;00m:\n\u001b[1;32m--> 114\u001b[0m     model\u001b[38;5;241m.\u001b[39mload_state_dict(\u001b[43mweights\u001b[49m\u001b[38;5;241;43m.\u001b[39;49m\u001b[43mget_state_dict\u001b[49m\u001b[43m(\u001b[49m\u001b[43mprogress\u001b[49m\u001b[38;5;241;43m=\u001b[39;49m\u001b[43mprogress\u001b[49m\u001b[43m)\u001b[49m)\n\u001b[0;32m    116\u001b[0m \u001b[38;5;28;01mreturn\u001b[39;00m model\n",
      "File \u001b[1;32mc:\\Users\\dhsmf\\anaconda3\\envs\\ml_venv\\lib\\site-packages\\torchvision\\models\\_api.py:63\u001b[0m, in \u001b[0;36mWeightsEnum.get_state_dict\u001b[1;34m(self, progress)\u001b[0m\n\u001b[0;32m     62\u001b[0m \u001b[38;5;28;01mdef\u001b[39;00m \u001b[38;5;21mget_state_dict\u001b[39m(\u001b[38;5;28mself\u001b[39m, progress: \u001b[38;5;28mbool\u001b[39m) \u001b[38;5;241m-\u001b[39m\u001b[38;5;241m>\u001b[39m Dict[\u001b[38;5;28mstr\u001b[39m, Any]:\n\u001b[1;32m---> 63\u001b[0m     \u001b[38;5;28;01mreturn\u001b[39;00m \u001b[43mload_state_dict_from_url\u001b[49m\u001b[43m(\u001b[49m\u001b[38;5;28;43mself\u001b[39;49m\u001b[38;5;241;43m.\u001b[39;49m\u001b[43murl\u001b[49m\u001b[43m,\u001b[49m\u001b[43m \u001b[49m\u001b[43mprogress\u001b[49m\u001b[38;5;241;43m=\u001b[39;49m\u001b[43mprogress\u001b[49m\u001b[43m)\u001b[49m\n",
      "File \u001b[1;32mc:\\Users\\dhsmf\\anaconda3\\envs\\ml_venv\\lib\\site-packages\\torch\\hub.py:727\u001b[0m, in \u001b[0;36mload_state_dict_from_url\u001b[1;34m(url, model_dir, map_location, progress, check_hash, file_name)\u001b[0m\n\u001b[0;32m    725\u001b[0m         r \u001b[38;5;241m=\u001b[39m HASH_REGEX\u001b[38;5;241m.\u001b[39msearch(filename)  \u001b[38;5;66;03m# r is Optional[Match[str]]\u001b[39;00m\n\u001b[0;32m    726\u001b[0m         hash_prefix \u001b[38;5;241m=\u001b[39m r\u001b[38;5;241m.\u001b[39mgroup(\u001b[38;5;241m1\u001b[39m) \u001b[38;5;28;01mif\u001b[39;00m r \u001b[38;5;28;01melse\u001b[39;00m \u001b[38;5;28;01mNone\u001b[39;00m\n\u001b[1;32m--> 727\u001b[0m     \u001b[43mdownload_url_to_file\u001b[49m\u001b[43m(\u001b[49m\u001b[43murl\u001b[49m\u001b[43m,\u001b[49m\u001b[43m \u001b[49m\u001b[43mcached_file\u001b[49m\u001b[43m,\u001b[49m\u001b[43m \u001b[49m\u001b[43mhash_prefix\u001b[49m\u001b[43m,\u001b[49m\u001b[43m \u001b[49m\u001b[43mprogress\u001b[49m\u001b[38;5;241;43m=\u001b[39;49m\u001b[43mprogress\u001b[49m\u001b[43m)\u001b[49m\n\u001b[0;32m    729\u001b[0m \u001b[38;5;28;01mif\u001b[39;00m _is_legacy_zip_format(cached_file):\n\u001b[0;32m    730\u001b[0m     \u001b[38;5;28;01mreturn\u001b[39;00m _legacy_zip_load(cached_file, model_dir, map_location)\n",
      "File \u001b[1;32mc:\\Users\\dhsmf\\anaconda3\\envs\\ml_venv\\lib\\site-packages\\torch\\hub.py:615\u001b[0m, in \u001b[0;36mdownload_url_to_file\u001b[1;34m(url, dst, hash_prefix, progress)\u001b[0m\n\u001b[0;32m    612\u001b[0m \u001b[38;5;28;01mwith\u001b[39;00m tqdm(total\u001b[38;5;241m=\u001b[39mfile_size, disable\u001b[38;5;241m=\u001b[39m\u001b[38;5;129;01mnot\u001b[39;00m progress,\n\u001b[0;32m    613\u001b[0m           unit\u001b[38;5;241m=\u001b[39m\u001b[38;5;124m'\u001b[39m\u001b[38;5;124mB\u001b[39m\u001b[38;5;124m'\u001b[39m, unit_scale\u001b[38;5;241m=\u001b[39m\u001b[38;5;28;01mTrue\u001b[39;00m, unit_divisor\u001b[38;5;241m=\u001b[39m\u001b[38;5;241m1024\u001b[39m) \u001b[38;5;28;01mas\u001b[39;00m pbar:\n\u001b[0;32m    614\u001b[0m     \u001b[38;5;28;01mwhile\u001b[39;00m \u001b[38;5;28;01mTrue\u001b[39;00m:\n\u001b[1;32m--> 615\u001b[0m         buffer \u001b[38;5;241m=\u001b[39m \u001b[43mu\u001b[49m\u001b[38;5;241;43m.\u001b[39;49m\u001b[43mread\u001b[49m\u001b[43m(\u001b[49m\u001b[38;5;241;43m8192\u001b[39;49m\u001b[43m)\u001b[49m\n\u001b[0;32m    616\u001b[0m         \u001b[38;5;28;01mif\u001b[39;00m \u001b[38;5;28mlen\u001b[39m(buffer) \u001b[38;5;241m==\u001b[39m \u001b[38;5;241m0\u001b[39m:\n\u001b[0;32m    617\u001b[0m             \u001b[38;5;28;01mbreak\u001b[39;00m\n",
      "File \u001b[1;32mc:\\Users\\dhsmf\\anaconda3\\envs\\ml_venv\\lib\\http\\client.py:463\u001b[0m, in \u001b[0;36mHTTPResponse.read\u001b[1;34m(self, amt)\u001b[0m\n\u001b[0;32m    460\u001b[0m \u001b[38;5;28;01mif\u001b[39;00m amt \u001b[38;5;129;01mis\u001b[39;00m \u001b[38;5;129;01mnot\u001b[39;00m \u001b[38;5;28;01mNone\u001b[39;00m:\n\u001b[0;32m    461\u001b[0m     \u001b[38;5;66;03m# Amount is given, implement using readinto\u001b[39;00m\n\u001b[0;32m    462\u001b[0m     b \u001b[38;5;241m=\u001b[39m \u001b[38;5;28mbytearray\u001b[39m(amt)\n\u001b[1;32m--> 463\u001b[0m     n \u001b[38;5;241m=\u001b[39m \u001b[38;5;28;43mself\u001b[39;49m\u001b[38;5;241;43m.\u001b[39;49m\u001b[43mreadinto\u001b[49m\u001b[43m(\u001b[49m\u001b[43mb\u001b[49m\u001b[43m)\u001b[49m\n\u001b[0;32m    464\u001b[0m     \u001b[38;5;28;01mreturn\u001b[39;00m \u001b[38;5;28mmemoryview\u001b[39m(b)[:n]\u001b[38;5;241m.\u001b[39mtobytes()\n\u001b[0;32m    465\u001b[0m \u001b[38;5;28;01melse\u001b[39;00m:\n\u001b[0;32m    466\u001b[0m     \u001b[38;5;66;03m# Amount is not given (unbounded read) so we must check self.length\u001b[39;00m\n\u001b[0;32m    467\u001b[0m     \u001b[38;5;66;03m# and self.chunked\u001b[39;00m\n",
      "File \u001b[1;32mc:\\Users\\dhsmf\\anaconda3\\envs\\ml_venv\\lib\\http\\client.py:507\u001b[0m, in \u001b[0;36mHTTPResponse.readinto\u001b[1;34m(self, b)\u001b[0m\n\u001b[0;32m    502\u001b[0m         b \u001b[38;5;241m=\u001b[39m \u001b[38;5;28mmemoryview\u001b[39m(b)[\u001b[38;5;241m0\u001b[39m:\u001b[38;5;28mself\u001b[39m\u001b[38;5;241m.\u001b[39mlength]\n\u001b[0;32m    504\u001b[0m \u001b[38;5;66;03m# we do not use _safe_read() here because this may be a .will_close\u001b[39;00m\n\u001b[0;32m    505\u001b[0m \u001b[38;5;66;03m# connection, and the user is reading more bytes than will be provided\u001b[39;00m\n\u001b[0;32m    506\u001b[0m \u001b[38;5;66;03m# (for example, reading in 1k chunks)\u001b[39;00m\n\u001b[1;32m--> 507\u001b[0m n \u001b[38;5;241m=\u001b[39m \u001b[38;5;28;43mself\u001b[39;49m\u001b[38;5;241;43m.\u001b[39;49m\u001b[43mfp\u001b[49m\u001b[38;5;241;43m.\u001b[39;49m\u001b[43mreadinto\u001b[49m\u001b[43m(\u001b[49m\u001b[43mb\u001b[49m\u001b[43m)\u001b[49m\n\u001b[0;32m    508\u001b[0m \u001b[38;5;28;01mif\u001b[39;00m \u001b[38;5;129;01mnot\u001b[39;00m n \u001b[38;5;129;01mand\u001b[39;00m b:\n\u001b[0;32m    509\u001b[0m     \u001b[38;5;66;03m# Ideally, we would raise IncompleteRead if the content-length\u001b[39;00m\n\u001b[0;32m    510\u001b[0m     \u001b[38;5;66;03m# wasn't satisfied, but it might break compatibility.\u001b[39;00m\n\u001b[0;32m    511\u001b[0m     \u001b[38;5;28mself\u001b[39m\u001b[38;5;241m.\u001b[39m_close_conn()\n",
      "File \u001b[1;32mc:\\Users\\dhsmf\\anaconda3\\envs\\ml_venv\\lib\\socket.py:704\u001b[0m, in \u001b[0;36mSocketIO.readinto\u001b[1;34m(self, b)\u001b[0m\n\u001b[0;32m    702\u001b[0m \u001b[38;5;28;01mwhile\u001b[39;00m \u001b[38;5;28;01mTrue\u001b[39;00m:\n\u001b[0;32m    703\u001b[0m     \u001b[38;5;28;01mtry\u001b[39;00m:\n\u001b[1;32m--> 704\u001b[0m         \u001b[38;5;28;01mreturn\u001b[39;00m \u001b[38;5;28;43mself\u001b[39;49m\u001b[38;5;241;43m.\u001b[39;49m\u001b[43m_sock\u001b[49m\u001b[38;5;241;43m.\u001b[39;49m\u001b[43mrecv_into\u001b[49m\u001b[43m(\u001b[49m\u001b[43mb\u001b[49m\u001b[43m)\u001b[49m\n\u001b[0;32m    705\u001b[0m     \u001b[38;5;28;01mexcept\u001b[39;00m timeout:\n\u001b[0;32m    706\u001b[0m         \u001b[38;5;28mself\u001b[39m\u001b[38;5;241m.\u001b[39m_timeout_occurred \u001b[38;5;241m=\u001b[39m \u001b[38;5;28;01mTrue\u001b[39;00m\n",
      "File \u001b[1;32mc:\\Users\\dhsmf\\anaconda3\\envs\\ml_venv\\lib\\ssl.py:1242\u001b[0m, in \u001b[0;36mSSLSocket.recv_into\u001b[1;34m(self, buffer, nbytes, flags)\u001b[0m\n\u001b[0;32m   1238\u001b[0m     \u001b[38;5;28;01mif\u001b[39;00m flags \u001b[38;5;241m!=\u001b[39m \u001b[38;5;241m0\u001b[39m:\n\u001b[0;32m   1239\u001b[0m         \u001b[38;5;28;01mraise\u001b[39;00m \u001b[38;5;167;01mValueError\u001b[39;00m(\n\u001b[0;32m   1240\u001b[0m           \u001b[38;5;124m\"\u001b[39m\u001b[38;5;124mnon-zero flags not allowed in calls to recv_into() on \u001b[39m\u001b[38;5;132;01m%s\u001b[39;00m\u001b[38;5;124m\"\u001b[39m \u001b[38;5;241m%\u001b[39m\n\u001b[0;32m   1241\u001b[0m           \u001b[38;5;28mself\u001b[39m\u001b[38;5;241m.\u001b[39m\u001b[38;5;18m__class__\u001b[39m)\n\u001b[1;32m-> 1242\u001b[0m     \u001b[38;5;28;01mreturn\u001b[39;00m \u001b[38;5;28;43mself\u001b[39;49m\u001b[38;5;241;43m.\u001b[39;49m\u001b[43mread\u001b[49m\u001b[43m(\u001b[49m\u001b[43mnbytes\u001b[49m\u001b[43m,\u001b[49m\u001b[43m \u001b[49m\u001b[43mbuffer\u001b[49m\u001b[43m)\u001b[49m\n\u001b[0;32m   1243\u001b[0m \u001b[38;5;28;01melse\u001b[39;00m:\n\u001b[0;32m   1244\u001b[0m     \u001b[38;5;28;01mreturn\u001b[39;00m \u001b[38;5;28msuper\u001b[39m()\u001b[38;5;241m.\u001b[39mrecv_into(buffer, nbytes, flags)\n",
      "File \u001b[1;32mc:\\Users\\dhsmf\\anaconda3\\envs\\ml_venv\\lib\\ssl.py:1100\u001b[0m, in \u001b[0;36mSSLSocket.read\u001b[1;34m(self, len, buffer)\u001b[0m\n\u001b[0;32m   1098\u001b[0m \u001b[38;5;28;01mtry\u001b[39;00m:\n\u001b[0;32m   1099\u001b[0m     \u001b[38;5;28;01mif\u001b[39;00m buffer \u001b[38;5;129;01mis\u001b[39;00m \u001b[38;5;129;01mnot\u001b[39;00m \u001b[38;5;28;01mNone\u001b[39;00m:\n\u001b[1;32m-> 1100\u001b[0m         \u001b[38;5;28;01mreturn\u001b[39;00m \u001b[38;5;28;43mself\u001b[39;49m\u001b[38;5;241;43m.\u001b[39;49m\u001b[43m_sslobj\u001b[49m\u001b[38;5;241;43m.\u001b[39;49m\u001b[43mread\u001b[49m\u001b[43m(\u001b[49m\u001b[38;5;28;43mlen\u001b[39;49m\u001b[43m,\u001b[49m\u001b[43m \u001b[49m\u001b[43mbuffer\u001b[49m\u001b[43m)\u001b[49m\n\u001b[0;32m   1101\u001b[0m     \u001b[38;5;28;01melse\u001b[39;00m:\n\u001b[0;32m   1102\u001b[0m         \u001b[38;5;28;01mreturn\u001b[39;00m \u001b[38;5;28mself\u001b[39m\u001b[38;5;241m.\u001b[39m_sslobj\u001b[38;5;241m.\u001b[39mread(\u001b[38;5;28mlen\u001b[39m)\n",
      "\u001b[1;31mKeyboardInterrupt\u001b[0m: "
     ]
    }
   ],
   "source": [
    "# \n",
    "feature_extractor = fe.FeatureExtractor(model_name='resnet18', pretrained=True)\n",
    "\n",
    "# Autoencoder 모델 생성\n",
    "autoencoder = fe.Autoencoder(input_dim=512, encoding_dim=256).to(device)"
   ]
  },
  {
   "cell_type": "code",
   "execution_count": 23,
   "metadata": {},
   "outputs": [
    {
     "name": "stdout",
     "output_type": "stream",
     "text": [
      "Epoch 1/100, Loss: 0.1449\n",
      "Epoch 2/100, Loss: 0.0858\n",
      "Epoch 3/100, Loss: 0.0855\n",
      "Epoch 4/100, Loss: 0.0850\n",
      "Epoch 5/100, Loss: 0.0849\n",
      "Epoch 6/100, Loss: 0.0857\n",
      "No improvement in loss. Adjusting learning rate...\n",
      "Epoch 7/100, Loss: 0.0851\n",
      "No improvement in loss. Adjusting learning rate...\n",
      "Epoch 8/100, Loss: 0.0856\n",
      "No improvement in loss. Adjusting learning rate...\n",
      "Epoch 9/100, Loss: 0.0851\n",
      "No improvement in loss. Adjusting learning rate...\n",
      "Epoch 10/100, Loss: 0.0852\n",
      "No improvement in loss. Adjusting learning rate...\n",
      "Epoch 11/100, Loss: 0.0854\n",
      "No improvement in loss. Adjusting learning rate...\n",
      "Epoch 12/100, Loss: 0.0862\n",
      "No improvement in loss. Adjusting learning rate...\n",
      "Epoch 13/100, Loss: 0.0849\n",
      "No improvement in loss. Adjusting learning rate...\n",
      "Epoch 14/100, Loss: 0.0854\n",
      "No improvement in loss. Adjusting learning rate...\n",
      "Epoch 15/100, Loss: 0.0852\n",
      "No improvement in loss. Adjusting learning rate...\n",
      "Epoch 16/100, Loss: 0.0860\n",
      "Epoch 00016: reducing learning rate of group 0 to 1.0000e-04.\n",
      "No improvement in loss. Adjusting learning rate...\n",
      "Epoch 17/100, Loss: 0.0852\n",
      "No improvement in loss. Adjusting learning rate...\n",
      "Epoch 18/100, Loss: 0.0852\n",
      "No improvement in loss. Adjusting learning rate...\n",
      "Epoch 19/100, Loss: 0.0858\n",
      "No improvement in loss. Adjusting learning rate...\n",
      "Epoch 20/100, Loss: 0.0853\n",
      "No improvement in loss. Adjusting learning rate...\n",
      "Epoch 21/100, Loss: 0.0846\n",
      "Epoch 22/100, Loss: 0.0851\n",
      "No improvement in loss. Adjusting learning rate...\n",
      "Epoch 23/100, Loss: 0.0854\n",
      "No improvement in loss. Adjusting learning rate...\n",
      "Epoch 24/100, Loss: 0.0857\n",
      "No improvement in loss. Adjusting learning rate...\n",
      "Epoch 25/100, Loss: 0.0853\n",
      "No improvement in loss. Adjusting learning rate...\n",
      "Epoch 26/100, Loss: 0.0850\n",
      "No improvement in loss. Adjusting learning rate...\n",
      "Epoch 27/100, Loss: 0.0854\n",
      "No improvement in loss. Adjusting learning rate...\n",
      "Epoch 28/100, Loss: 0.0848\n",
      "No improvement in loss. Adjusting learning rate...\n",
      "Epoch 29/100, Loss: 0.0853\n",
      "No improvement in loss. Adjusting learning rate...\n",
      "Epoch 30/100, Loss: 0.0852\n",
      "No improvement in loss. Adjusting learning rate...\n",
      "Epoch 31/100, Loss: 0.0851\n",
      "No improvement in loss. Adjusting learning rate...\n",
      "Epoch 32/100, Loss: 0.0857\n",
      "Epoch 00032: reducing learning rate of group 0 to 1.0000e-05.\n",
      "No improvement in loss. Adjusting learning rate...\n",
      "Epoch 33/100, Loss: 0.0855\n",
      "No improvement in loss. Adjusting learning rate...\n",
      "Epoch 34/100, Loss: 0.0858\n",
      "No improvement in loss. Adjusting learning rate...\n",
      "Epoch 35/100, Loss: 0.0857\n",
      "No improvement in loss. Adjusting learning rate...\n",
      "Epoch 36/100, Loss: 0.0854\n",
      "No improvement in loss. Adjusting learning rate...\n",
      "Epoch 37/100, Loss: 0.0856\n",
      "No improvement in loss. Adjusting learning rate...\n",
      "Epoch 38/100, Loss: 0.0852\n",
      "No improvement in loss. Adjusting learning rate...\n",
      "Epoch 39/100, Loss: 0.0859\n",
      "No improvement in loss. Adjusting learning rate...\n",
      "Epoch 40/100, Loss: 0.0852\n",
      "No improvement in loss. Adjusting learning rate...\n",
      "Epoch 41/100, Loss: 0.0849\n",
      "No improvement in loss. Adjusting learning rate...\n",
      "Epoch 42/100, Loss: 0.0853\n",
      "No improvement in loss. Adjusting learning rate...\n",
      "Epoch 43/100, Loss: 0.0853\n",
      "Epoch 00043: reducing learning rate of group 0 to 1.0000e-06.\n",
      "No improvement in loss. Adjusting learning rate...\n",
      "Epoch 44/100, Loss: 0.0857\n",
      "No improvement in loss. Adjusting learning rate...\n",
      "Epoch 45/100, Loss: 0.0853\n",
      "No improvement in loss. Adjusting learning rate...\n",
      "Epoch 46/100, Loss: 0.0849\n",
      "No improvement in loss. Adjusting learning rate...\n",
      "Epoch 47/100, Loss: 0.0856\n",
      "No improvement in loss. Adjusting learning rate...\n",
      "Epoch 48/100, Loss: 0.0856\n",
      "No improvement in loss. Adjusting learning rate...\n",
      "Epoch 49/100, Loss: 0.0857\n",
      "No improvement in loss. Adjusting learning rate...\n",
      "Epoch 50/100, Loss: 0.0851\n",
      "No improvement in loss. Adjusting learning rate...\n",
      "Epoch 51/100, Loss: 0.0849\n",
      "No improvement in loss. Adjusting learning rate...\n",
      "Epoch 52/100, Loss: 0.0857\n",
      "No improvement in loss. Adjusting learning rate...\n",
      "Epoch 53/100, Loss: 0.0853\n",
      "No improvement in loss. Adjusting learning rate...\n",
      "Epoch 54/100, Loss: 0.0854\n",
      "Epoch 00054: reducing learning rate of group 0 to 1.0000e-07.\n",
      "No improvement in loss. Adjusting learning rate...\n",
      "Epoch 55/100, Loss: 0.0856\n",
      "No improvement in loss. Adjusting learning rate...\n",
      "Epoch 56/100, Loss: 0.0857\n",
      "No improvement in loss. Adjusting learning rate...\n",
      "Epoch 57/100, Loss: 0.0849\n",
      "No improvement in loss. Adjusting learning rate...\n",
      "Epoch 58/100, Loss: 0.0847\n",
      "No improvement in loss. Adjusting learning rate...\n",
      "Epoch 59/100, Loss: 0.0854\n",
      "No improvement in loss. Adjusting learning rate...\n",
      "Epoch 60/100, Loss: 0.0850\n",
      "No improvement in loss. Adjusting learning rate...\n",
      "Epoch 61/100, Loss: 0.0859\n",
      "No improvement in loss. Adjusting learning rate...\n",
      "Epoch 62/100, Loss: 0.0851\n",
      "No improvement in loss. Adjusting learning rate...\n",
      "Epoch 63/100, Loss: 0.0851\n",
      "No improvement in loss. Adjusting learning rate...\n",
      "Epoch 64/100, Loss: 0.0854\n",
      "No improvement in loss. Adjusting learning rate...\n",
      "Epoch 65/100, Loss: 0.0859\n",
      "Epoch 00065: reducing learning rate of group 0 to 1.0000e-08.\n",
      "No improvement in loss. Adjusting learning rate...\n",
      "Epoch 66/100, Loss: 0.0855\n",
      "No improvement in loss. Adjusting learning rate...\n",
      "Epoch 67/100, Loss: 0.0850\n",
      "No improvement in loss. Adjusting learning rate...\n",
      "Epoch 68/100, Loss: 0.0858\n",
      "No improvement in loss. Adjusting learning rate...\n",
      "Epoch 69/100, Loss: 0.0852\n",
      "No improvement in loss. Adjusting learning rate...\n",
      "Epoch 70/100, Loss: 0.0857\n",
      "No improvement in loss. Adjusting learning rate...\n",
      "Epoch 71/100, Loss: 0.0850\n",
      "No improvement in loss. Adjusting learning rate...\n",
      "Epoch 72/100, Loss: 0.0856\n",
      "No improvement in loss. Adjusting learning rate...\n",
      "Epoch 73/100, Loss: 0.0858\n",
      "No improvement in loss. Adjusting learning rate...\n",
      "Epoch 74/100, Loss: 0.0849\n",
      "No improvement in loss. Adjusting learning rate...\n",
      "Epoch 75/100, Loss: 0.0852\n",
      "No improvement in loss. Adjusting learning rate...\n",
      "Epoch 76/100, Loss: 0.0849\n",
      "No improvement in loss. Adjusting learning rate...\n",
      "Epoch 77/100, Loss: 0.0849\n",
      "No improvement in loss. Adjusting learning rate...\n",
      "Epoch 78/100, Loss: 0.0854\n",
      "No improvement in loss. Adjusting learning rate...\n",
      "Epoch 79/100, Loss: 0.0857\n",
      "No improvement in loss. Adjusting learning rate...\n",
      "Epoch 80/100, Loss: 0.0858\n",
      "No improvement in loss. Adjusting learning rate...\n",
      "Epoch 81/100, Loss: 0.0855\n",
      "No improvement in loss. Adjusting learning rate...\n",
      "Epoch 82/100, Loss: 0.0857\n",
      "No improvement in loss. Adjusting learning rate...\n",
      "Epoch 83/100, Loss: 0.0847\n",
      "No improvement in loss. Adjusting learning rate...\n",
      "Epoch 84/100, Loss: 0.0857\n",
      "No improvement in loss. Adjusting learning rate...\n",
      "Epoch 85/100, Loss: 0.0857\n",
      "No improvement in loss. Adjusting learning rate...\n",
      "Epoch 86/100, Loss: 0.0852\n",
      "No improvement in loss. Adjusting learning rate...\n",
      "Epoch 87/100, Loss: 0.0851\n",
      "No improvement in loss. Adjusting learning rate...\n",
      "Epoch 88/100, Loss: 0.0861\n",
      "No improvement in loss. Adjusting learning rate...\n",
      "Epoch 89/100, Loss: 0.0852\n",
      "No improvement in loss. Adjusting learning rate...\n",
      "Epoch 90/100, Loss: 0.0849\n",
      "No improvement in loss. Adjusting learning rate...\n",
      "Epoch 91/100, Loss: 0.0849\n",
      "No improvement in loss. Adjusting learning rate...\n",
      "Epoch 92/100, Loss: 0.0849\n",
      "No improvement in loss. Adjusting learning rate...\n",
      "Epoch 93/100, Loss: 0.0849\n",
      "No improvement in loss. Adjusting learning rate...\n",
      "Epoch 94/100, Loss: 0.0856\n",
      "No improvement in loss. Adjusting learning rate...\n",
      "Epoch 95/100, Loss: 0.0855\n",
      "No improvement in loss. Adjusting learning rate...\n",
      "Epoch 96/100, Loss: 0.0860\n",
      "No improvement in loss. Adjusting learning rate...\n",
      "Epoch 97/100, Loss: 0.0849\n",
      "No improvement in loss. Adjusting learning rate...\n",
      "Epoch 98/100, Loss: 0.0852\n",
      "No improvement in loss. Adjusting learning rate...\n",
      "Epoch 99/100, Loss: 0.0851\n",
      "No improvement in loss. Adjusting learning rate...\n",
      "Epoch 100/100, Loss: 0.0852\n",
      "No improvement in loss. Adjusting learning rate...\n"
     ]
    }
   ],
   "source": [
    "def train_autoencoder(model, train_loader, criterion, optimizer, scheduler, num_epochs=100):\n",
    "    model.train()\n",
    "    best_loss = None\n",
    "    \n",
    "    for epoch in range(num_epochs):\n",
    "        total_loss = 0\n",
    "        for images, _ in train_loader:\n",
    "            images = images.to(device)\n",
    "            \n",
    "            # 특징 추출\n",
    "            features = feature_extractor(images)\n",
    "            # Autoencoder를 통한 재구성\n",
    "            reconstructed = model(features)\n",
    "            # 재구성 손실 계산\n",
    "            loss = criterion(reconstructed, features)\n",
    "            \n",
    "            optimizer.zero_grad()\n",
    "            loss.backward()\n",
    "            optimizer.step()\n",
    "            \n",
    "            total_loss += loss.item()\n",
    "        \n",
    "        # 평균 손실 계산\n",
    "        avg_loss = total_loss / len(train_loader)\n",
    "        print(f'Epoch {epoch+1}/{num_epochs}, Loss: {avg_loss:.4f}')\n",
    "        \n",
    "        # scheduler.step()에 평균 손실 전달\n",
    "        scheduler.step(avg_loss)\n",
    "        \n",
    "        # Early stopping 조건 확인\n",
    "        if best_loss is None or avg_loss < best_loss:\n",
    "            best_loss = avg_loss\n",
    "        else:\n",
    "            print(\"No improvement in loss. Adjusting learning rate...\")\n",
    "            # 학습률 조정 로그는 ReduceLROnPlateau의 verbose=True를 통해 출력됩니다.\n",
    "\n",
    "\n",
    "\n",
    "\n",
    "# Autoencoder 모델, 손실 함수, 옵티마이저 설정\n",
    "autoencoder_criterion = nn.MSELoss()\n",
    "autoencoder_optimizer = optim.AdamW(autoencoder.parameters(), lr=0.001)\n",
    "autoencoder_scheduler = ReduceLROnPlateau(autoencoder_optimizer, mode='min', factor=0.1, patience=10, verbose=True)\n",
    "\n",
    "\n",
    "# Autoencoder 모델 학습\n",
    "train_autoencoder(autoencoder, train_loader, autoencoder_criterion, autoencoder_optimizer,autoencoder_scheduler)"
   ]
  },
  {
   "cell_type": "code",
   "execution_count": 24,
   "metadata": {},
   "outputs": [
    {
     "data": {
      "image/png": "[encoded data removed]",
      "text/plain": [
       "<Figure size 640x480 with 1 Axes>"
      ]
     },
     "metadata": {},
     "output_type": "display_data"
    }
   ],
   "source": [
    "def calculate_losses(train_loader, model):\n",
    "    model.eval()  # 평가 모드 전환\n",
    "    losses = []  # 손실 초기화\n",
    "    with torch.no_grad():\n",
    "        for images, _ in train_loader:\n",
    "            images = images.to(device)\n",
    "            features = feature_extractor(images)\n",
    "            reconstructed = model(features)\n",
    "            loss = nn.MSELoss(reduction='none')(reconstructed, features).mean(1)  # 손실 계산\n",
    "            losses.extend(loss.cpu().numpy())\n",
    "    return losses\n",
    "\n",
    "# 학습 데이터의 손실 계산\n",
    "losses = calculate_losses(train_loader, autoencoder)\n",
    "\n",
    "# 손실 분포 시각화\n",
    "plt.hist(losses, bins=50)\n",
    "plt.xlabel('Loss')\n",
    "plt.ylabel('Frequency')\n",
    "plt.title('Distribution of Losses')\n",
    "plt.show()"
   ]
  },
  {
   "cell_type": "code",
   "execution_count": 25,
   "metadata": {},
   "outputs": [
    {
     "name": "stdout",
     "output_type": "stream",
     "text": [
      "Threshold for anomaly detection: 0.10806367546319959\n"
     ]
    }
   ],
   "source": [
    "# 손실 값의 상위 95%에 해당하는 분위수를 임계값으로 설정\n",
    "threshold = np.quantile(losses, 0.95)\n",
    "print(f\"Threshold for anomaly detection: {threshold}\")"
   ]
  },
  {
   "cell_type": "code",
   "execution_count": 26,
   "metadata": {},
   "outputs": [
    {
     "name": "stdout",
     "output_type": "stream",
     "text": [
      "         id  label\n",
      "0  TEST_000      0\n",
      "1  TEST_001      0\n",
      "2  TEST_002      0\n",
      "3  TEST_003      0\n",
      "4  TEST_004      0\n"
     ]
    }
   ],
   "source": [
    "# 테스트 데이터에 대해 이상 탐지 수행\n",
    "test_data = CustomDataset(csv_file='./test.csv', transform=transform)\n",
    "test_loader = DataLoader(test_data, batch_size=32, shuffle=False)\n",
    "\n",
    "# 제출 파일 로드\n",
    "submit = pd.read_csv('./sample_submission.csv')\n",
    "\n",
    "def detect_anomalies(loader, model, threshold):\n",
    "    model.eval()\n",
    "    anomaly_scores = []\n",
    "    with torch.no_grad():\n",
    "        for images, _ in loader:\n",
    "            images = images.to(device)\n",
    "            features = feature_extractor(images)\n",
    "            reconstructed = model(features)\n",
    "            loss = torch.mean((features - reconstructed) ** 2, dim=1)\n",
    "            anomaly_scores.extend(loss.cpu().numpy())\n",
    "    return anomaly_scores\n",
    "\n",
    "\n",
    "\n",
    "# 이상 탐지 수행 및 anomaly_scores 계산\n",
    "anomaly_scores = detect_anomalies(test_loader, autoencoder, threshold)\n",
    "\n",
    "# anomaly_scores를 사용하여 정상(0) 또는 이상(1) 레이블 결정\n",
    "submit['label'] = [1 if score > threshold else 0 for score in anomaly_scores]\n",
    "\n",
    "# 변경된 submit DataFrame 확인\n",
    "print(submit.head())\n",
    "\n",
    "# 결과를 CSV 파일로 저장\n",
    "submit.to_csv('.result.csv', index=False)"
   ]
  },
  {
   "cell_type": "code",
   "execution_count": null,
   "metadata": {},
   "outputs": [],
   "source": []
  }
 ],
 "metadata": {
  "kernelspec": {
   "display_name": "ml_venv",
   "language": "python",
   "name": "python3"
  },
  "language_info": {
   "codemirror_mode": {
    "name": "ipython",
    "version": 3
   },
   "file_extension": ".py",
   "mimetype": "text/x-python",
   "name": "python",
   "nbconvert_exporter": "python",
   "pygments_lexer": "ipython3",
   "version": "3.9.15"
  }
 },
 "nbformat": 4,
 "nbformat_minor": 2
}
